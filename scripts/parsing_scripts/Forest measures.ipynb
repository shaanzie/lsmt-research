{
 "cells": [
  {
   "cell_type": "code",
   "execution_count": 1,
   "metadata": {},
   "outputs": [],
   "source": [
    "import pandas as pd\n",
    "import matplotlib.pyplot as plt"
   ]
  },
  {
   "cell_type": "code",
   "execution_count": null,
   "metadata": {},
   "outputs": [
    {
     "name": "stdout",
     "output_type": "stream",
     "text": [
      "Done processing forest-fillseq-4-4-0-1-0-latency.csv\n",
      "Done processing forest-fillseq-4-2-0-0-1-latency.csv\n",
      "Done processing forest-readrandom-2-5-1-0-0-latency.csv\n",
      "Done processing forest-fillrandom-4-2-0-1-0-latency.csv\n",
      "Done processing forest-fillseq-2-2-1-0-1-latency.csv\n",
      "Done processing forest-fillrandom-5-4-1-1-0-latency.csv\n",
      "Done processing forest-fillrandom-3-2-0-0-0-latency.csv\n",
      "Done processing forest-fillrandom-5-3-0-0-0-latency.csv\n",
      "Done processing forest-fillrandom-3-4-0-0-0-latency.csv\n",
      "Done processing forest-fillrandom-3-4-1-0-1-latency.csv\n",
      "Done processing forest-fillrandom-5-3-1-1-1-latency.csv\n",
      "Done processing forest-fillseq-4-5-1-1-1-latency.csv\n"
     ]
    }
   ],
   "source": [
    "import pandas as pd\n",
    "import os\n",
    "\n",
    "all_df = pd.DataFrame()\n",
    "\n",
    "for root, dirs, files in os.walk(\"/home/shaanzie/forest-results/\"):\n",
    "    for filename in files:\n",
    "        if(\"latency\" in filename):\n",
    "            df = pd.read_csv(\"/home/shaanzie/forest-results/\" + filename)\n",
    "            indices = filename.split(\"-\")\n",
    "            df[\"Benchmark\"] = indices[0]\n",
    "            df[\"Workload\"] = indices[1]\n",
    "            df[\"NumLSM\"] = indices[2]\n",
    "            df[\"Fallbacks\"] = indices[3]\n",
    "            df[\"Parallel\"] = indices[4]\n",
    "            df[\"KVSep\"] = indices[5]\n",
    "            df[\"UpdateCon\"] = indices[6]\n",
    "            all_df = all_df.append(df)\n",
    "            print(\"Done processing \" + filename)\n",
    "all_df.head()    "
   ]
  },
  {
   "cell_type": "code",
   "execution_count": 12,
   "metadata": {},
   "outputs": [
    {
     "data": {
      "text/html": [
       "<div>\n",
       "<style scoped>\n",
       "    .dataframe tbody tr th:only-of-type {\n",
       "        vertical-align: middle;\n",
       "    }\n",
       "\n",
       "    .dataframe tbody tr th {\n",
       "        vertical-align: top;\n",
       "    }\n",
       "\n",
       "    .dataframe thead th {\n",
       "        text-align: right;\n",
       "    }\n",
       "</style>\n",
       "<table border=\"1\" class=\"dataframe\">\n",
       "  <thead>\n",
       "    <tr style=\"text-align: right;\">\n",
       "      <th></th>\n",
       "    </tr>\n",
       "  </thead>\n",
       "  <tbody>\n",
       "  </tbody>\n",
       "</table>\n",
       "</div>"
      ],
      "text/plain": [
       "Empty DataFrame\n",
       "Columns: []\n",
       "Index: []"
      ]
     },
     "execution_count": 12,
     "metadata": {},
     "output_type": "execute_result"
    }
   ],
   "source": [
    "all_df.to_csv(\"CollatedLatency.csv\")"
   ]
  },
  {
   "cell_type": "code",
   "execution_count": null,
   "metadata": {},
   "outputs": [],
   "source": []
  }
 ],
 "metadata": {
  "kernelspec": {
   "display_name": "Python 3.6.9 64-bit",
   "language": "python",
   "name": "python36964bitf1977c0f505b46be8b9f5fa5d5ff17f4"
  },
  "language_info": {
   "codemirror_mode": {
    "name": "ipython",
    "version": 3
   },
   "file_extension": ".py",
   "mimetype": "text/x-python",
   "name": "python",
   "nbconvert_exporter": "python",
   "pygments_lexer": "ipython3",
   "version": "3.8.5"
  }
 },
 "nbformat": 4,
 "nbformat_minor": 4
}

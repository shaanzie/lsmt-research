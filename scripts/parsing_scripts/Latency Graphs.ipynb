{
 "cells": [
  {
   "cell_type": "markdown",
   "metadata": {},
   "source": [
    "# Latency Graphs"
   ]
  },
  {
   "cell_type": "code",
   "execution_count": 2,
   "metadata": {},
   "outputs": [],
   "source": [
    "# !pip3 install matplotlib pandas\n",
    "import matplotlib.pyplot as plt\n",
    "import matplotlib\n",
    "import pandas as pd\n",
    "import os\n",
    "%matplotlib inline"
   ]
  },
  {
   "cell_type": "code",
   "execution_count": 57,
   "metadata": {},
   "outputs": [
    {
     "name": "stdout",
     "output_type": "stream",
     "text": [
      "7911244 7911202\n"
     ]
    },
    {
     "data": {
      "image/png": "[encoded data removed]",
      "text/plain": [
       "<Figure size 432x288 with 1 Axes>"
      ]
     },
     "metadata": {
      "needs_background": "light"
     },
     "output_type": "display_data"
    }
   ],
   "source": [
    "# LevelDB\n",
    "\n",
    "level_df = pd.read_csv(\"/home/shaanzie/Desktop/YCSB_lsmt/latency.csv\")\n",
    "\n",
    "compact_time = []\n",
    "with open(\"/home/shaanzie/Desktop/YCSB_lsmt/leveldb_database/LOG\", \"r\") as compact_file:\n",
    "    for line in compact_file.readlines():\n",
    "        if(\"compacted\" in line or \"Compacting\" in line):\n",
    "            inp = line.split(\" \")[0]\n",
    "            compact_time.append(inp.split(\"-\")[1])\n",
    "\n",
    "def find_time(time):\n",
    "    f = time.split(\".\")[0]\n",
    "    try:\n",
    "        s = str(time.split(\".\")[1])[:2]\n",
    "    except IndexError:\n",
    "        s = 0\n",
    "    hours = int(f.split(\":\")[0])*60*60*100\n",
    "    mins = int(f.split(\":\")[1])*60*100\n",
    "    sec = int(f.split(\":\")[2])*100\n",
    "    return hours + mins + sec + int(s)\n",
    "\n",
    "timestamps =[]\n",
    "for index, row in level_df.iterrows():\n",
    "    timestamps.append(find_time(row['Timestamp']))\n",
    "\n",
    "timestamps.sort()\n",
    "print(timestamps[-1], find_time(compact_time[0]))\n",
    "    \n",
    "plt.plot(timestamps,level_df['Latency'], label='Latency', color='r')\n",
    "for i in compact_time:\n",
    "    plt.axvline(find_time(i))\n",
    "plt.xlabel(\"Timestamp\\n\\nLevelDB-Workload A\")\n",
    "plt.ylabel(\"Latency(ms)\")\n",
    "plt.legend()\n",
    "plt.savefig(\"/home/shaanzie/Desktop/LSMTProject/LevelDB-WorkloadA.png\")\n",
    "plt.show()"
   ]
  },
  {
   "cell_type": "code",
   "execution_count": null,
   "metadata": {},
   "outputs": [],
   "source": []
  }
 ],
 "metadata": {
  "kernelspec": {
   "display_name": "Python 3",
   "language": "python",
   "name": "python3"
  },
  "language_info": {
   "codemirror_mode": {
    "name": "ipython",
    "version": 3
   },
   "file_extension": ".py",
   "mimetype": "text/x-python",
   "name": "python",
   "nbconvert_exporter": "python",
   "pygments_lexer": "ipython3",
   "version": "3.6.9"
  }
 },
 "nbformat": 4,
 "nbformat_minor": 4
}
